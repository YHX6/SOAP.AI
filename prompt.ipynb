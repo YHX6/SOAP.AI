{
 "cells": [
  {
   "cell_type": "code",
   "execution_count": 3,
   "id": "56cdce0d-0784-4d31-a482-5af731431f76",
   "metadata": {
    "tags": []
   },
   "outputs": [],
   "source": [
    "# install openai 1.10\n",
    "#!pip install openai==1.10.0"
   ]
  },
  {
   "cell_type": "code",
   "execution_count": 30,
   "id": "5131a307-e025-41c8-ba11-5723b31339eb",
   "metadata": {
    "tags": []
   },
   "outputs": [],
   "source": [
    "import openai\n",
    "import json\n",
    "import ast"
   ]
  },
  {
   "cell_type": "markdown",
   "id": "572b1989-7cb0-4e45-85cc-e5f3b9559865",
   "metadata": {
    "tags": []
   },
   "source": [
    "# api model settings"
   ]
  },
  {
   "cell_type": "code",
   "execution_count": 34,
   "id": "f7c34537-a5ef-4eef-938a-0a31bb0d1900",
   "metadata": {
    "tags": []
   },
   "outputs": [],
   "source": [
    "OPENAI_API_KEY=\"\"\n",
    "OPENAI_API_VERSION=\"\"\n",
    "OPENAI_API_ENDPOINT=\"\""
   ]
  },
  {
   "cell_type": "code",
   "execution_count": 26,
   "id": "2aac8253-0dee-4f34-af52-cb5c24998318",
   "metadata": {
    "tags": []
   },
   "outputs": [],
   "source": [
    "client = openai.AzureOpenAI(\n",
    "    api_key = OPENAI_API_KEY,\n",
    "    api_version = OPENAI_API_VERSION,\n",
    "    azure_endpoint = OPENAI_API_ENDPOINT,\n",
    ")"
   ]
  },
  {
   "cell_type": "code",
   "execution_count": 31,
   "id": "614f647d-cd71-4cb6-9bad-bc9da5fba4ae",
   "metadata": {
    "tags": []
   },
   "outputs": [],
   "source": [
    "# defailed documentation: https://platform.openai.com/docs/api-reference/chat/create?lang=python\n",
    "\n",
    "def send_prompt(prompt, model = \"gpt-35-turbo\", is_json=False):\n",
    "    if is_json:\n",
    "        response = client.chat.completions.create(\n",
    "            model= model, # model = \"deployment_name\".\n",
    "            response_format={ \"type\": \"json_object\" },\n",
    "            messages=[{\"role\": \"user\", \"content\": prompt}]\n",
    "        )\n",
    "    else:\n",
    "        response = client.chat.completions.create(\n",
    "            model= model, # model = \"deployment_name\".\n",
    "            messages=[{\"role\": \"user\", \"content\": prompt}]\n",
    "        )\n",
    "\n",
    "    resp =response.choices[0].message.content\n",
    "    return resp\n",
    "\n",
    "\n",
    "def send_messages(messages, model = \"gpt-35-turbo\", is_json=False):\n",
    "    if is_json:\n",
    "        response = client.chat.completions.create(\n",
    "            model= model, \n",
    "            response_format={ \"type\": \"json_object\" },\n",
    "            messages=messages\n",
    "        )\n",
    "    else:\n",
    "        response = client.chat.completions.create(\n",
    "            model= model, \n",
    "            messages=messages\n",
    "        )\n",
    "\n",
    "    resp =response.choices[0].message.content\n",
    "    return resp"
   ]
  },
  {
   "cell_type": "code",
   "execution_count": 35,
   "id": "73abc9b9-b790-4f56-93fb-cfefe5f3cab4",
   "metadata": {
    "tags": []
   },
   "outputs": [],
   "source": []
  },
  {
   "cell_type": "code",
   "execution_count": 36,
   "id": "44e94058-693c-4789-b8b6-c6e7b298cd6f",
   "metadata": {
    "tags": []
   },
   "outputs": [
    {
     "data": {
      "text/plain": [
       "'I am an AI language model created by OpenAI called GPT-3. I have been trained on a wide variety of texts and can assist with answering questions, providing information, and engaging in conversation. How can I assist you today?'"
      ]
     },
     "execution_count": 36,
     "metadata": {},
     "output_type": "execute_result"
    }
   ],
   "source": [
    "send_messages(msg)"
   ]
  },
  {
   "cell_type": "code",
   "execution_count": null,
   "id": "dd547727-28f7-4c7c-a1ab-7aa2beee5867",
   "metadata": {},
   "outputs": [],
   "source": []
  },
  {
   "cell_type": "markdown",
   "id": "b56640be-e368-4cd5-bcaf-7295a7799e91",
   "metadata": {},
   "source": [
    "# input from frontend: transcript + notes"
   ]
  },
  {
   "cell_type": "code",
   "execution_count": 40,
   "id": "38586828-ded4-4a3b-b463-36cb5839a02f",
   "metadata": {
    "tags": []
   },
   "outputs": [],
   "source": [
    "transcript = [\n",
    "    {\"person\":\"Therapist\", \"timestamp\":\"xxx\", \"content\":\"Good afternoon. I'm Dr. Smith, your therapist. How are you feeling today?\"},\n",
    "    {\"person\":\"Patient\", \"timestamp\":\"xxx\", \"content\":\"Hi, Dr. Smith. I'm doing okay, I guess. A bit anxious, but that's normal, right?\"},\n",
    "        {\"person\":\"Therapist\", \"timestamp\":\"xxx\", \"content\":\"Absolutely. It's completely normal to feel a bit anxious, especially when starting therapy. To get started, could you tell me a bit about yourself? Your age, occupation, and any relevant personal background?\"},\n",
    "    {\"person\":\"Patient\", \"timestamp\":\"xxx\", \"content\":\"Sure, I'm 28 years old, work in marketing, and recently moved to the city. The new job and environment have been a bit overwhelming.\"},\n",
    "        {\"person\":\"Therapist\", \"timestamp\":\"xxx\", \"content\":\"It sounds like you've been going through significant changes. Can you share what prompted you to seek therapy?\"},\n",
    "    {\"person\":\"Patient\", \"timestamp\":\"xxx\", \"content\":\"Well, the move and new job have been stressful, but it's more than that. I've been feeling unusually sad and having trouble sleeping. My friend suggested it might be depression, so I thought I should talk to someone.\"},\n",
    "        {\"person\":\"Therapist\", \"timestamp\":\"xxx\", \"content\":\"Thank you for sharing that. It's commendable that you reached out for support. Can you tell me more about your mood and sleep patterns? Have you noticed any specific triggers for these feelings?\"},\n",
    "    {\"person\":\"Patient\", \"timestamp\":\"xxx\", \"content\":\"My mood has been consistently low, and I often feel overwhelmed. I've been sleeping poorly, waking up in the middle of the night and struggling to get back to sleep. It's affecting my energy levels during the day.\"},\n",
    "        {\"person\":\"Therapist\", \"timestamp\":\"xxx\", \"content\":\"I see. Have you experienced any significant life events or changes recently that might be contributing to these feelings?\"},\n",
    "    {\"person\":\"Patient\", \"timestamp\":\"xxx\", \"content\":\"Well, besides the move and job, there was a breakup about six months ago that I haven't fully processed. It was a long-term relationship, and I think it still weighs on me.\"},\n",
    "        {\"person\":\"Therapist\", \"timestamp\":\"xxx\", \"content\":\"Breakups can be challenging, and it's understandable that it might still be affecting you. In addition to the low mood and sleep difficulties, have you noticed any changes in your appetite, concentration, or interest in activities you used to enjoy?\"},\n",
    "    {\"person\":\"Patient\", \"timestamp\":\"xxx\", \"content\":\"Yeah, my appetite has decreased, and I've lost some weight unintentionally. Concentration has been tough at work, and I don't really feel like doing things I used to enjoy.\"},\n",
    "        {\"person\":\"Therapist\", \"timestamp\":\"xxx\", \"content\":\"Thank you for sharing those details. It helps me understand your situation better. Let's talk about your support system. Do you have friends or family you can rely on for emotional support?\"},\n",
    "    {\"person\":\"Patient\", \"timestamp\":\"xxx\", \"content\":\"I have a few friends in the city, but they're busy with their own lives. My family is back home, and we talk occasionally, but I don't want to burden them.\"},\n",
    "        {\"person\":\"Therapist\", \"timestamp\":\"xxx\", \"content\":\"It's essential to have a support system, but it's okay to seek professional help too. Moving forward, we can explore strategies to cope with the changes and work on improving your overall well-being. How does that sound to you?\"},\n",
    "    {\"person\":\"Patient\", \"timestamp\":\"xxx\", \"content\":\"Yeah, I'm willing to try. I just want to feel better.\"},\n",
    "        {\"person\":\"Therapist\", \"timestamp\":\"xxx\", \"content\":\"That's a great attitude. In our next sessions, we'll delve deeper into your experiences and work on developing coping mechanisms. Is there anything else you'd like to share before we conclude today's session?\"},\n",
    "    {\"person\":\"Patient\", \"timestamp\":\"xxx\", \"content\":\"I think that covers it for now. Thanks for listening, Dr. Smith.\"},\n",
    "        {\"person\":\"Therapist\", \"timestamp\":\"xxx\", \"content\":\"You're welcome. I appreciate your openness. We'll take things one step at a time. I look forward to our continued work together.\"},\n",
    "]"
   ]
  },
  {
   "cell_type": "code",
   "execution_count": 42,
   "id": "9a0cc1b9-7cf2-44f6-a7e8-f2b20880103b",
   "metadata": {
    "tags": []
   },
   "outputs": [],
   "source": [
    "notes =  [\"job and environment\", \"sleeping issues\"]"
   ]
  },
  {
   "cell_type": "code",
   "execution_count": null,
   "id": "409836fd-62ff-42e8-b0b8-792b277b0ebb",
   "metadata": {},
   "outputs": [],
   "source": []
  },
  {
   "cell_type": "markdown",
   "id": "5e251447-9a45-468f-9b69-0d439b7fd1ed",
   "metadata": {},
   "source": [
    "# prompt to extract information"
   ]
  },
  {
   "cell_type": "code",
   "execution_count": 61,
   "id": "3b652787-ba43-40d3-b5a5-4a0a6a55bb02",
   "metadata": {
    "tags": []
   },
   "outputs": [],
   "source": [
    "def get_prompt_documentation(transcript, notes):\n",
    "    return \"\"\"Generete a structured documentation by extracting the information from the transcript and return in structured format. \n",
    "    If there are some part of information that are not talked in the transcirpt, return with \"TBD\". This is the transcription: \n",
    "    {{{transcript}}}. This is the doctor's notes: {{{notes}}}. Return your response in following JSON format.\n",
    "    \n",
    "    Desired format:\n",
    "    {{\n",
    "        \"Assessment And Diagnoisis\": {{\n",
    "            \"Formal Diagnosis\": [LIST OF STRING],\n",
    "            \"Identified Challenges\": <STRING>,\n",
    "            \"Identified Strengths\": <STRING>，\n",
    "        }},\n",
    "        \n",
    "        \"Treatment And Plans\": {{\n",
    "            \"Short-term and Long-term Goals\": {{ \"Long-term Goals\": <STRING>,  \"Short-term Goals\": <STRING>}},\n",
    "            \"Therapeutic Approaches and Adjustments\": <LIST OF STRING>,\n",
    "            \"Frequency and Duration of Sessions\": {{\"Frequency\": <STRING>, \"Duration\":<STRING>}},\n",
    "            \"Progression of Treatment Over Time\": <STRING>,\n",
    "        }},\n",
    "        \n",
    "        \"Medication Management\": {{\n",
    "            \"Prescribed Medications\": <LIST OF STRING>,\n",
    "            \"Effects and Potential Side Effects\": <LIST OF STRING>,\n",
    "        }},\n",
    "        \n",
    "        \"Crisis Management\": {{\n",
    "            \"Plan for Crises or Emergencies\": <LIST OF STRING>,\n",
    "            \"Emergency Contact Information\": {{\"Therapist\":<STRING>, \"Local Crisis Hotline\":<STRING>}}\n",
    "        }},\n",
    "        \n",
    "        \"Self Care Stategies\": {{\n",
    "            \"Recommendations for Self-Care Activities\": <LIST OF STRING>,\n",
    "            \"Coping Mechanisms\": <LIST OF STRING>,\n",
    "            \"Strategies to Manage Challenges\": <LIST OF STRING>\n",
    "        }}\n",
    "    }}\n",
    "    \"\"\".format(transcript=transcript, notes=notes)"
   ]
  },
  {
   "cell_type": "code",
   "execution_count": 38,
   "id": "4f0627b9-7a17-4414-a067-e814ed5587c2",
   "metadata": {
    "tags": []
   },
   "outputs": [],
   "source": [
    "def get_prompt_patient_background(transcript, notes):\n",
    "    return \"\"\"Generete a structured documentation by extracting the information from the transcript and return in structured format. If there are some part of information that are not talked in the transcirpt, return with \"TBD\". This is the transcription: {{{transcript}}}. This is the doctor's notes: {{{notes}}}. Return your response in following JSON format.\n",
    "    \n",
    "    Desired format:\n",
    "    {{\n",
    "        \"Patient Name\": <STRING>,\n",
    "        \"Demographics\": {{ \"Age\":<INT>, \"Gender\":<STRING>, \"Occupation\":<STRING>, \"Contact Information\": <STRING>}},\n",
    "        \"Relevant Personal History\": [LIST OF STRING],\n",
    "        \"Presenting Issues and Concerns\": [LIST OF STRING],\n",
    "    }}\n",
    "    \"\"\".format(transcript=transcript, notes=notes)\n",
    "\n",
    "\n",
    "def get_prompt_assessment_and_diagnoisis(transcript, notes):\n",
    "    return \"\"\"Generete a structured documentation by extracting the information from the transcript and return in structured format. If there are some part of information that are not talked in the transcirpt, return with \"TBD\". This is the transcription: {{{transcript}}}. This is the doctor's notes: {{{notes}}}. Return your response in following JSON format.\n",
    "    \n",
    "    Desired format:\n",
    "    {{\n",
    "        \"Formal Diagnosis\": [LIST OF STRING],\n",
    "        \"Identified Challenges\": <STRING>,\n",
    "        \"Identified Strengths\": <STRING>\n",
    "    }}\n",
    "    \"\"\".format(transcript=transcript, notes=notes)\n",
    "\n",
    "\n",
    "def get_prompt_treatment_and_plans(transcript, notes):\n",
    "    return \"\"\"Generete a structured documentation by extracting the information from the transcript and return in structured format. \n",
    "    If there are some part of information that are not talked in the transcirpt, return with \"TBD\". This is the transcription: \n",
    "    {{{transcript}}}. This is the doctor's notes: {{{notes}}}. Return your response in following JSON format.\n",
    "    \n",
    "    Desired format:\n",
    "    {{\n",
    "        \"Short-term and Long-term Goals\": {{ \"Long-term Goals\": <STRING>,  \"Short-term Goals\": <STRING>}},\n",
    "        \"Therapeutic Approaches and Adjustments\": <LIST OF STRING>,\n",
    "        \"Frequency and Duration of Sessions\": {{\"Frequency\": <STRING>, \"Duration\":<STRING>}},\n",
    "        \"Progression of Treatment Over Time\": <STRING>,\n",
    "    }}\n",
    "    \"\"\".format(transcript=transcript, notes=notes)\n",
    "\n",
    "def get_prompt_medication_management(transcript, notes):\n",
    "    return \"\"\"Generete a structured documentation by extracting the information from the transcript and return in structured format. If there are some part of information that are not talked in the transcirpt, return with \"TBD\". This is the transcription: {{{transcript}}}. This is the doctor's notes: {{{notes}}}. Return your response in following JSON format.\n",
    "    \n",
    "    Desired format:\n",
    "    {{\n",
    "        \"Prescribed Medications\": <LIST OF STRING>,\n",
    "        \"Effects and Potential Side Effects\": <LIST OF STRING>,\n",
    "    }}\n",
    "    \"\"\".format(transcript=transcript, notes=notes)\n",
    "\n",
    "\n",
    "def get_prompt_crisis_management(transcript, notes):\n",
    "    return \"\"\"Generete a structured documentation by extracting the information from the transcript and return in structured format. If there are some part of information that are not talked in the transcirpt, return with \"TBD\". This is the transcription: {{{transcript}}}. This is the doctor's notes: {{{notes}}}. Return your response in following JSON format.\n",
    "    \n",
    "    Desired format:\n",
    "    {{\n",
    "        \"Plan for Crises or Emergencies\": <LIST OF STRING>,\n",
    "        \"Emergency Contact Information\": {{\"Therapist\":<STRING>, \"Local Crisis Hotline\":<STRING>}}\n",
    "    }}\n",
    "    \"\"\".format(transcript=transcript, notes=notes)\n",
    "\n",
    "def get_prompt_self_care_strategies(transcript, notes):\n",
    "    return \"\"\"Generete a structured documentation by extracting the information from the transcript and return in structured format. If there are some part of information that are not talked in the transcirpt, return with \"TBD\". This is the transcription: {{{transcript}}}. This is the doctor's notes: {{{notes}}}. Return your response in following JSON format.\n",
    "    \n",
    "    Desired format:\n",
    "    {{\n",
    "        \"Recommendations for Self-Care Activities\": <LIST OF STRING>,\n",
    "        \"Coping Mechanisms\": <LIST OF STRING>,\n",
    "        \"Strategies to Manage Challenges\": <LIST OF STRING>\n",
    "    }}\n",
    "    \"\"\".format(transcript=transcript, notes=notes)\n"
   ]
  },
  {
   "cell_type": "markdown",
   "id": "4647f1ec-4ed6-4c0e-9cd5-de7499cc6088",
   "metadata": {},
   "source": [
    "## testing prompt"
   ]
  },
  {
   "cell_type": "code",
   "execution_count": 50,
   "id": "9a3c0f55-fa77-491f-bc06-9a92bd99e2b3",
   "metadata": {
    "tags": []
   },
   "outputs": [],
   "source": [
    "# parse string into python dictionary\n",
    "def parse_to_json(resp):\n",
    "    return json.loads(resp)\n",
    "                \n",
    "def parse_ask_character_to_json(resp):\n",
    "    try:\n",
    "        return json.loads(resp)\n",
    "    except Exception as e:  # incase it the dict keys is wrapped by ' instead of \"\n",
    "        return ast.literal_eval(resp)"
   ]
  },
  {
   "cell_type": "code",
   "execution_count": 62,
   "id": "2ade128a-cbae-4a5d-a4a6-90822bff56a6",
   "metadata": {
    "tags": []
   },
   "outputs": [],
   "source": [
    "settings = \"You are an assistant agent to help mental health therapist to write their documentation of the therapy. You need to help to extract information from the audio transcript. Do not give your analysis report.\"\n",
    "messages = [\n",
    "    {\"role\":\"system\", \"content\":settings},\n",
    "    {\"role\":\"user\", \"content\":get_prompt_documentation(transcript, notes)}\n",
    "]"
   ]
  },
  {
   "cell_type": "code",
   "execution_count": 63,
   "id": "2ea64b49-159c-47e2-b1b4-c7cab8e0052b",
   "metadata": {
    "tags": []
   },
   "outputs": [
    {
     "data": {
      "text/plain": [
       "6243"
      ]
     },
     "execution_count": 63,
     "metadata": {},
     "output_type": "execute_result"
    }
   ],
   "source": [
    "# input length. Make sure it does not excceed the limit\n",
    "len(str(messages))"
   ]
  },
  {
   "cell_type": "code",
   "execution_count": 64,
   "id": "ad7a8d14-e815-4ce1-a5f9-5cf409b995d2",
   "metadata": {
    "collapsed": true,
    "jupyter": {
     "outputs_hidden": true
    },
    "tags": []
   },
   "outputs": [
    {
     "data": {
      "text/plain": [
       "'{\\n    \"Assessment And Diagnoisis\": {\\n        \"Formal Diagnosis\": [\"TBD\"],\\n        \"Identified Challenges\": \"job and environment, sleeping issues\",\\n        \"Identified Strengths\": \"TBD\"\\n    },\\n    \\n    \"Treatment And Plans\": {\\n        \"Short-term and Long-term Goals\": { \"Long-term Goals\": \"TBD\",  \"Short-term Goals\": \"TBD\"},\\n        \"Therapeutic Approaches and Adjustments\": [\"TBD\"],\\n        \"Frequency and Duration of Sessions\": {\"Frequency\": \"TBD\", \"Duration\": \"TBD\"},\\n        \"Progression of Treatment Over Time\": \"TBD\"\\n    },\\n    \\n    \"Medication Management\": {\\n        \"Prescribed Medications\": [\"TBD\"],\\n        \"Effects and Potential Side Effects\": [\"TBD\"]\\n    },\\n    \\n    \"Crisis Management\": {\\n        \"Plan for Crises or Emergencies\": [\"TBD\"],\\n        \"Emergency Contact Information\": {\"Therapist\":\"TBD\", \"Local Crisis Hotline\":\"TBD\"}\\n    },\\n    \\n    \"Self Care Stategies\": {\\n        \"Recommendations for Self-Care Activities\": [\"TBD\"],\\n        \"Coping Mechanisms\": [\"TBD\"],\\n        \"Strategies to Manage Challenges\": [\"TBD\"]\\n    }\\n}'"
      ]
     },
     "execution_count": 64,
     "metadata": {},
     "output_type": "execute_result"
    }
   ],
   "source": [
    "resp = send_messages(messages)\n",
    "resp"
   ]
  },
  {
   "cell_type": "code",
   "execution_count": 65,
   "id": "950ef227-0f80-405e-9f3d-6815ec5dc4b3",
   "metadata": {
    "tags": []
   },
   "outputs": [
    {
     "data": {
      "text/plain": [
       "{'Assessment And Diagnoisis': {'Formal Diagnosis': ['TBD'],\n",
       "  'Identified Challenges': 'job and environment, sleeping issues',\n",
       "  'Identified Strengths': 'TBD'},\n",
       " 'Treatment And Plans': {'Short-term and Long-term Goals': {'Long-term Goals': 'TBD',\n",
       "   'Short-term Goals': 'TBD'},\n",
       "  'Therapeutic Approaches and Adjustments': ['TBD'],\n",
       "  'Frequency and Duration of Sessions': {'Frequency': 'TBD',\n",
       "   'Duration': 'TBD'},\n",
       "  'Progression of Treatment Over Time': 'TBD'},\n",
       " 'Medication Management': {'Prescribed Medications': ['TBD'],\n",
       "  'Effects and Potential Side Effects': ['TBD']},\n",
       " 'Crisis Management': {'Plan for Crises or Emergencies': ['TBD'],\n",
       "  'Emergency Contact Information': {'Therapist': 'TBD',\n",
       "   'Local Crisis Hotline': 'TBD'}},\n",
       " 'Self Care Stategies': {'Recommendations for Self-Care Activities': ['TBD'],\n",
       "  'Coping Mechanisms': ['TBD'],\n",
       "  'Strategies to Manage Challenges': ['TBD']}}"
      ]
     },
     "execution_count": 65,
     "metadata": {},
     "output_type": "execute_result"
    }
   ],
   "source": [
    "res = parse_to_json(resp)\n",
    "res"
   ]
  },
  {
   "cell_type": "code",
   "execution_count": null,
   "id": "ab9fd440-1b24-4e78-bf26-b18dfe859b5c",
   "metadata": {},
   "outputs": [],
   "source": []
  }
 ],
 "metadata": {
  "kernelspec": {
   "display_name": "Python 3 (ipykernel)",
   "language": "python",
   "name": "python3"
  },
  "language_info": {
   "codemirror_mode": {
    "name": "ipython",
    "version": 3
   },
   "file_extension": ".py",
   "mimetype": "text/x-python",
   "name": "python",
   "nbconvert_exporter": "python",
   "pygments_lexer": "ipython3",
   "version": "3.11.5"
  }
 },
 "nbformat": 4,
 "nbformat_minor": 5
}
