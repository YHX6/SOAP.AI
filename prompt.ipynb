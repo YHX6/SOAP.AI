{
 "cells": [
  {
   "cell_type": "code",
   "execution_count": 3,
   "id": "56cdce0d-0784-4d31-a482-5af731431f76",
   "metadata": {
    "tags": []
   },
   "outputs": [],
   "source": [
    "# install openai 1.10\n",
    "#!pip install openai==1.10.0"
   ]
  },
  {
   "cell_type": "code",
   "execution_count": 30,
   "id": "5131a307-e025-41c8-ba11-5723b31339eb",
   "metadata": {
    "tags": []
   },
   "outputs": [],
   "source": [
    "import openai\n",
    "import json\n",
    "import ast"
   ]
  },
  {
   "cell_type": "code",
   "execution_count": 34,
   "id": "f7c34537-a5ef-4eef-938a-0a31bb0d1900",
   "metadata": {
    "tags": []
   },
   "outputs": [],
   "source": [
    "OPENAI_API_KEY=\"\"\n",
    "OPENAI_API_VERSION=\"\"\n",
    "OPENAI_API_ENDPOINT=\"\""
   ]
  },
  {
   "cell_type": "code",
   "execution_count": 26,
   "id": "2aac8253-0dee-4f34-af52-cb5c24998318",
   "metadata": {
    "tags": []
   },
   "outputs": [],
   "source": [
    "client = openai.AzureOpenAI(\n",
    "    api_key = OPENAI_API_KEY,\n",
    "    api_version = OPENAI_API_VERSION,\n",
    "    azure_endpoint = OPENAI_API_ENDPOINT,\n",
    ")"
   ]
  },
  {
   "cell_type": "code",
   "execution_count": 31,
   "id": "614f647d-cd71-4cb6-9bad-bc9da5fba4ae",
   "metadata": {
    "tags": []
   },
   "outputs": [],
   "source": [
    "# defailed documentation: https://platform.openai.com/docs/api-reference/chat/create?lang=python\n",
    "\n",
    "def send_prompt(prompt, model = \"gpt-35-turbo\", is_json=False):\n",
    "    if is_json:\n",
    "        response = client.chat.completions.create(\n",
    "            model= model, # model = \"deployment_name\".\n",
    "            response_format={ \"type\": \"json_object\" },\n",
    "            messages=[{\"role\": \"user\", \"content\": prompt}]\n",
    "        )\n",
    "    else:\n",
    "        response = client.chat.completions.create(\n",
    "            model= model, # model = \"deployment_name\".\n",
    "            messages=[{\"role\": \"user\", \"content\": prompt}]\n",
    "        )\n",
    "\n",
    "    resp =response.choices[0].message.content\n",
    "    return resp\n",
    "\n",
    "\n",
    "def send_messages(messages, model = \"gpt-35-turbo\", is_json=False):\n",
    "    if is_json:\n",
    "        response = client.chat.completions.create(\n",
    "            model= model, \n",
    "            response_format={ \"type\": \"json_object\" },\n",
    "            messages=messages\n",
    "        )\n",
    "    else:\n",
    "        response = client.chat.completions.create(\n",
    "            model= model, \n",
    "            messages=messages\n",
    "        )\n",
    "\n",
    "    resp =response.choices[0].message.content\n",
    "    return resp"
   ]
  },
  {
   "cell_type": "code",
   "execution_count": 32,
   "id": "73abc9b9-b790-4f56-93fb-cfefe5f3cab4",
   "metadata": {
    "tags": []
   },
   "outputs": [],
   "source": [
    "msg = [\n",
    "    {\"role\": \"system\", \"content\": \"You are a helpful assistant.\"},\n",
    "    {\"role\": \"user\", \"content\": \"Hello!\"}\n",
    "  ]"
   ]
  },
  {
   "cell_type": "code",
   "execution_count": 33,
   "id": "44e94058-693c-4789-b8b6-c6e7b298cd6f",
   "metadata": {
    "tags": []
   },
   "outputs": [
    {
     "data": {
      "text/plain": [
       "'Hello! How can I assist you today?'"
      ]
     },
     "execution_count": 33,
     "metadata": {},
     "output_type": "execute_result"
    }
   ],
   "source": [
    "send_messages(msg)"
   ]
  },
  {
   "cell_type": "code",
   "execution_count": null,
   "id": "dd547727-28f7-4c7c-a1ab-7aa2beee5867",
   "metadata": {},
   "outputs": [],
   "source": []
  }
 ],
 "metadata": {
  "kernelspec": {
   "display_name": "Python 3 (ipykernel)",
   "language": "python",
   "name": "python3"
  },
  "language_info": {
   "codemirror_mode": {
    "name": "ipython",
    "version": 3
   },
   "file_extension": ".py",
   "mimetype": "text/x-python",
   "name": "python",
   "nbconvert_exporter": "python",
   "pygments_lexer": "ipython3",
   "version": "3.11.5"
  }
 },
 "nbformat": 4,
 "nbformat_minor": 5
}
